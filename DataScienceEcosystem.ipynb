{
 "cells": [
  {
   "cell_type": "markdown",
   "id": "e5e4f52b-7cde-47f7-a46a-b3765608f4eb",
   "metadata": {},
   "source": [
    "# Data Science Tools and Ecosystem"
   ]
  },
  {
   "cell_type": "markdown",
   "id": "5ffeddb5-5ac6-40ef-933a-bf99483474f1",
   "metadata": {},
   "source": [
    "In this notebook, Data Science Tools and Ecosystem are summarized."
   ]
  },
  {
   "cell_type": "markdown",
   "id": "49622226-a56d-4eb8-9edf-e7301bbd4f6f",
   "metadata": {},
   "source": [
    "**Objectives:**\n",
    "- List popular languages\n",
    "- List popular libraries\n",
    "- List popular tools\n",
    "- Evalutate simple expressions"
   ]
  },
  {
   "cell_type": "markdown",
   "id": "5c098d1a-c863-4a66-9176-7c286eb33328",
   "metadata": {},
   "source": [
    "Some of the popular languages that Data Scientists use are:\n",
    "1. Python\n",
    "2. R\n",
    "3. C++"
   ]
  },
  {
   "cell_type": "markdown",
   "id": "4e1e0007-934c-4e98-90ef-a17a34131be6",
   "metadata": {},
   "source": [
    "Some of the commonly used libraries used by Data Scientists include:\n",
    "1. NumPy\n",
    "2. MatPlotLib\n",
    "3. Pandas"
   ]
  },
  {
   "cell_type": "markdown",
   "id": "f208244a-7565-478e-9e10-4ecacef9a8ea",
   "metadata": {},
   "source": [
    "| Data Science Tools |\n",
    "|----------------|\n",
    "| Vs Code |\n",
    "| Jupyter Lab/Notebook |\n",
    "| Anaconda |"
   ]
  },
  {
   "cell_type": "markdown",
   "id": "4d0eb645-fdf1-4b80-945b-7506b8ec2a86",
   "metadata": {},
   "source": [
    "### Below are a few examples of evaluating arithmetic expressions in Python"
   ]
  },
  {
   "cell_type": "code",
   "execution_count": 16,
   "id": "2d63c997-ebe9-4ad1-bdb4-991ca045525a",
   "metadata": {},
   "outputs": [
    {
     "data": {
      "text/plain": [
       "17"
      ]
     },
     "execution_count": 16,
     "metadata": {},
     "output_type": "execute_result"
    }
   ],
   "source": [
    "#This a simple arithmetic expression to mutiply then add integers\n",
    "(3 * 4) + 5"
   ]
  },
  {
   "cell_type": "code",
   "execution_count": 24,
   "id": "2ebb3c31-0aaa-4824-b514-adfffa94bd3b",
   "metadata": {},
   "outputs": [
    {
     "data": {
      "text/plain": [
       "3.3333333333333335"
      ]
     },
     "execution_count": 24,
     "metadata": {},
     "output_type": "execute_result"
    }
   ],
   "source": [
    "#This will convert 200 minutes to hours by diving by 60\n",
    "200 / 60"
   ]
  },
  {
   "cell_type": "markdown",
   "id": "23fad24c-4284-4d35-813c-1cd7d6045d1e",
   "metadata": {},
   "source": [
    "## Author\n",
    "Scott Holder"
   ]
  },
  {
   "cell_type": "code",
   "execution_count": null,
   "id": "d03f8472-20c1-4d74-8dbb-095b74d67fde",
   "metadata": {},
   "outputs": [],
   "source": []
  }
 ],
 "metadata": {
  "kernelspec": {
   "display_name": "Python 3 (ipykernel)",
   "language": "python",
   "name": "python3"
  },
  "language_info": {
   "codemirror_mode": {
    "name": "ipython",
    "version": 3
   },
   "file_extension": ".py",
   "mimetype": "text/x-python",
   "name": "python",
   "nbconvert_exporter": "python",
   "pygments_lexer": "ipython3",
   "version": "3.11.7"
  }
 },
 "nbformat": 4,
 "nbformat_minor": 5
}
